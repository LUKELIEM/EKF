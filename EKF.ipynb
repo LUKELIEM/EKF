{
 "cells": [
  {
   "cell_type": "markdown",
   "metadata": {},
   "source": [
    "## EKF Imeplementation\n",
    "\n",
    "This Notebook contains codes to implement Extended Kalman Filter on a JetBot."
   ]
  },
  {
   "cell_type": "code",
   "execution_count": 2,
   "metadata": {},
   "outputs": [],
   "source": [
    "import os\n",
    "import pickle\n",
    "import cv2\n",
    "import numpy as np\n",
    "import math\n",
    "import time\n",
    "from IPython.display import display\n",
    "import ipywidgets.widgets as widgets\n",
    "from jetbot import bgr8_to_jpeg\n",
    "from jetbot import ObjectDetector\n",
    "from jetbot import Camera\n",
    "from jetbot import Robot\n",
    "\n",
    "robot = Robot()"
   ]
  },
  {
   "cell_type": "code",
   "execution_count": 1,
   "metadata": {},
   "outputs": [],
   "source": [
    "# Mapping between set_motor \"speed\" and measured wheel angular velocity \"omega\"\n",
    "# for 0.1 second motor running time\n",
    "wheel_calibration = {\n",
    "    \"speed\": [0.25, 0.3, 0.4, 0.5, 0.6, 0.7, 0.8],\n",
    "    \"omega\": [0.0, 3.85, 9.23, 15.0, 25.8, 29.2, 35.4]\n",
    "}"
   ]
  },
  {
   "cell_type": "code",
   "execution_count": 24,
   "metadata": {},
   "outputs": [],
   "source": [
    "def forward(wheel_speed, Rtime):\n",
    "\n",
    "    robot.set_motors(wheel_speed, wheel_speed)\n",
    "    time.sleep(Rtime)\n",
    "    robot.stop()\n",
    "    \n",
    "    return\n",
    "\n",
    "def control2robot(wheel_radius, axle_length):\n",
    "    \"\"\" transform wheel speeds to robot motion in world frame \"\"\"\n",
    "    l = axle_length\n",
    "    r = wheel_radius\n",
    "\n",
    "    return np.array([[r/2, r/2],\n",
    "                  [r/l, -r/l]])\n",
    "\n",
    "def omega2speed(in_val, mapping, debug=False):\n",
    "    \"\"\" Map wheel angular speed to motor speed setting based on a calibration mapping \"\"\"\n",
    "    \n",
    "    if in_val < 0:\n",
    "        sign = -1\n",
    "        in_val = abs(in_val)\n",
    "    else:\n",
    "        sign = 1\n",
    "        \n",
    "    out_lower = 0\n",
    "    in_lower = 0\n",
    "    out_val = 0\n",
    "\n",
    "    for i, in_upper in enumerate(mapping[\"omega\"]):\n",
    "        if debug:\n",
    "            print (i, in_upper)\n",
    "        if in_val < in_upper:\n",
    "            out_upper = mapping[\"speed\"][i]\n",
    "            out_val = out_lower + (in_val - in_lower)/(in_upper - in_lower) \\\n",
    "                *(out_upper-out_lower)\n",
    "            if debug:\n",
    "                print(\"yes\", out_val)\n",
    "            break\n",
    "        else:\n",
    "            if debug:\n",
    "                print(\"no\")\n",
    "            out_lower = mapping[\"speed\"][i]\n",
    "            in_lower = in_upper\n",
    "            \n",
    "    if out_val is 0:\n",
    "        print (\"Input is too high!!!\", in_val)\n",
    "        out_val = 0\n",
    "        \n",
    "    return sign*out_val\n",
    "\n",
    "\n",
    "def calc_wheel_velocities(direction='L', arc_radius=0.5, min_ang_vel=3.85, \\\n",
    "       wheel_radius=0.0325, axle_length=0.12, debug = False):\n",
    "    \"\"\" Calculate wheel velocities to generate forward arc motion of provided radius \"\"\"\n",
    "\n",
    "    radius = arc_radius\n",
    "    axle = axle_length\n",
    "    \n",
    "    if direction is 'L':\n",
    "        \"\"\" If left turn, angular velocity of right wheel should be higher.\n",
    "        Set angular velocity of left wheel to minumum (e.g. 3.85--> motor setting of 0.3) \"\"\"\n",
    "        l_ang_vel = min_ang_vel\n",
    "        r_ang_vel = (min_ang_vel*2)/(2*radius/axle-1)+min_ang_vel\n",
    "    else:\n",
    "        \"\"\" If right turn, angular velocity of left wheel should be higher.\n",
    "        Set angular velocity of right wheel to minumum (e.g. 3.85--> motor setting of 0.3) \"\"\"\n",
    "        r_ang_vel = min_ang_vel    \n",
    "        l_ang_vel = (min_ang_vel*2)/(2*radius/axle-1)+min_ang_vel\n",
    "    \n",
    "    if debug:\n",
    "        print (\"Left angular velocity:\",l_ang_vel, \" Right angular velocity:\",r_ang_vel)\n",
    "        T = control2robot(wheel_radius, axle_length)\n",
    "        robot_velocities = np.dot(T, np.array([[r_ang_vel],[l_ang_vel]]))\n",
    "        print (\"Robot velocities:\", robot_velocities)\n",
    "        print(\"arc radius = \",abs(robot_velocities[0,0]/robot_velocities[1,0]))\n",
    "    \n",
    "    return np.array([[r_ang_vel],[l_ang_vel]])\n"
   ]
  },
  {
   "cell_type": "code",
   "execution_count": 25,
   "metadata": {},
   "outputs": [],
   "source": [
    "def take_circ_step(robot_params, direction, radius, debug=False):\n",
    "    \n",
    "    # load robot control parameters\n",
    "    start_x = robot_params[\"start_x\"]\n",
    "    start_y = robot_params[\"start_y\"]\n",
    "    wheel_radius = robot_params[\"wheel_radius\"]\n",
    "    axle_length = robot_params[\"axle_length\"]\n",
    "    motor_on_time = robot_params[\"motor_on_time\"]\n",
    "    motor_off_time = robot_params[\"motor_off_time\"]\n",
    "    min_ang_velocity = robot_params[\"min_ang_velocity\"]\n",
    "    \n",
    "    \"\"\" Generate clamped wheel velocities based on turn direction and radius \"\"\"\n",
    "    wheel_velocities = calc_wheel_velocities(direction='L', arc_radius=radius, \\\n",
    "        min_ang_vel=min_ang_velocity, \\\n",
    "        wheel_radius=wheel_radius, axle_length=axle_length, debug = debug)\n",
    "    \n",
    "    \"\"\" Map wheel angular velocities to motor setting, then run motors \"\"\" \n",
    "    w_r = omega2speed(wheel_velocities[0,0],wheel_calibration) \n",
    "    w_l = omega2speed(wheel_velocities[1,0],wheel_calibration)\n",
    "    if debug:\n",
    "        print (\"L motor:\", w_l,\" R motor:\", w_r)\n",
    "    \n",
    "    \"\"\" Run motor step motion \"\"\"\n",
    "    robot.set_motors(w_l, w_r)  # left, right\n",
    "    time.sleep(motor_on_time)\n",
    "    robot.stop()\n",
    "    time.sleep(motor_off_time)\n",
    "    \n",
    "    return"
   ]
  },
  {
   "cell_type": "code",
   "execution_count": 43,
   "metadata": {},
   "outputs": [],
   "source": [
    "robot_params = {\n",
    "    \"start_x\": 0,\n",
    "    \"start_y\": 0,\n",
    "    \"wheel_radius\": 0.0325,\n",
    "    \"axle_length\": 0.12,\n",
    "    \"motor_on_time\": 0.1,  \n",
    "    \"motor_off_time\": 0.2,\n",
    "    \"min_ang_velocity\": 6.0 # Equivalent to motor speed setting of 0.3\n",
    "}\n",
    "\n",
    "for i in range(300):\n",
    "    take_circ_step(robot_params, 'L', 0.5, debug=False)"
   ]
  },
  {
   "cell_type": "code",
   "execution_count": 30,
   "metadata": {},
   "outputs": [],
   "source": [
    "robot.stop()"
   ]
  },
  {
   "cell_type": "code",
   "execution_count": 115,
   "metadata": {},
   "outputs": [
    {
     "name": "stdout",
     "output_type": "stream",
     "text": [
      "Left angular velocity: 4.888888888888889  Right angular velocity: 4.0\n",
      "Robot velocities: [[ 0.14444444]\n",
      " [-0.24074074]]\n",
      "arc radius =  0.5999999999999996\n"
     ]
    },
    {
     "data": {
      "text/plain": [
       "array([[4.        ],\n",
       "       [4.88888889]])"
      ]
     },
     "execution_count": 115,
     "metadata": {},
     "output_type": "execute_result"
    }
   ],
   "source": [
    "calc_wheel_velocities(direction='R', arc_radius=0.6, min_ang_vel=4.0, \\\n",
    "       wheel_radius=0.0325, axle_length=0.12, debug = True)"
   ]
  }
 ],
 "metadata": {
  "kernelspec": {
   "display_name": "Python 3",
   "language": "python",
   "name": "python3"
  },
  "language_info": {
   "codemirror_mode": {
    "name": "ipython",
    "version": 3
   },
   "file_extension": ".py",
   "mimetype": "text/x-python",
   "name": "python",
   "nbconvert_exporter": "python",
   "pygments_lexer": "ipython3",
   "version": "3.6.9"
  }
 },
 "nbformat": 4,
 "nbformat_minor": 4
}

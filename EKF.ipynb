{
 "cells": [
  {
   "cell_type": "markdown",
   "metadata": {},
   "source": [
    "## EKF Imeplementation\n",
    "\n",
    "This Notebook contains codes to implement Extended Kalman Filter on a JetBot."
   ]
  },
  {
   "cell_type": "code",
   "execution_count": 143,
   "metadata": {},
   "outputs": [],
   "source": [
    "import os\n",
    "import pickle\n",
    "import cv2\n",
    "import numpy as np\n",
    "import math\n",
    "import time\n",
    "from IPython.display import display\n",
    "import ipywidgets.widgets as widgets\n",
    "from jetbot import bgr8_to_jpeg\n",
    "from jetbot import ObjectDetector\n",
    "from jetbot import Camera\n",
    "from jetbot import Robot\n",
    "\n",
    "robot = Robot()"
   ]
  },
  {
   "cell_type": "code",
   "execution_count": 1,
   "metadata": {},
   "outputs": [],
   "source": [
    "# Mapping between set_motor \"speed\" and measured wheel angular velocity \"omega\"\n",
    "# for 0.1 second motor running time\n",
    "wheel_calibration = {\n",
    "    \"speed\": [0.25, 0.3, 0.4, 0.5, 0.6, 0.7, 0.8],\n",
    "    \"omega\": [0.0, 3.85, 9.23, 15.0, 25.8, 29.2, 35.4]\n",
    "}"
   ]
  },
  {
   "cell_type": "code",
   "execution_count": 127,
   "metadata": {},
   "outputs": [],
   "source": [
    "def forward(wheel_speed, Rtime):\n",
    "\n",
    "    robot.set_motors(wheel_speed, wheel_speed)\n",
    "    time.sleep(Rtime)\n",
    "    robot.stop()\n",
    "    \n",
    "    return\n",
    "\n",
    "def control2robot(wheel_radius, axle_length):\n",
    "    \"\"\" transform wheel speeds to robot motion in world frame \"\"\"\n",
    "    l = axle_length\n",
    "    r = wheel_radius\n",
    "\n",
    "    return np.array([[r/2, r/2],\n",
    "                  [r/l, -r/l]])\n",
    "\n",
    "def omega2speed(in_val, mapping, debug=False):\n",
    "    \"\"\" Map wheel angular speed to motor speed setting based on a calibration mapping \"\"\"\n",
    "    \n",
    "    if in_val < 0:\n",
    "        sign = -1\n",
    "        in_val = abs(in_val)\n",
    "    else:\n",
    "        sign = 1\n",
    "        \n",
    "    out_lower = 0\n",
    "    in_lower = 0\n",
    "    out_val = 0\n",
    "\n",
    "    for i, in_upper in enumerate(mapping[\"omega\"]):\n",
    "        if debug:\n",
    "            print (i, in_upper)\n",
    "        if in_val < in_upper:\n",
    "            out_upper = mapping[\"speed\"][i]\n",
    "            out_val = out_lower + (in_val - in_lower)/(in_upper - in_lower) \\\n",
    "                *(out_upper-out_lower)\n",
    "            if debug:\n",
    "                print(\"yes\", out_val)\n",
    "            break\n",
    "        else:\n",
    "            if debug:\n",
    "                print(\"no\")\n",
    "            out_lower = mapping[\"speed\"][i]\n",
    "            in_lower = in_upper\n",
    "            \n",
    "    if out_val is 0:\n",
    "        print (\"Input is too high!!!\", in_val)\n",
    "        out_val = 0\n",
    "        \n",
    "    return sign*out_val\n",
    "\n",
    "\n",
    "def calc_wheel_velocities(direction='L', arc_radius=0.5, min_ang_vel=3.85, \\\n",
    "       wheel_radius=0.0325, axle_length=0.12, debug = False):\n",
    "    \"\"\" Calculate wheel velocities to generate forward arc motion of provided radius \"\"\"\n",
    "\n",
    "    radius = arc_radius\n",
    "    axle = axle_length\n",
    "    \n",
    "    if direction is 'L':\n",
    "        \"\"\" If left turn, angular velocity of right wheel should be higher.\n",
    "        Set angular velocity of left wheel to minumum (e.g. 3.85--> motor setting of 0.3) \"\"\"\n",
    "        l_ang_vel = min_ang_vel\n",
    "        r_ang_vel = (min_ang_vel*2)/(2*radius/axle-1)+min_ang_vel\n",
    "    else:\n",
    "        \"\"\" If right turn, angular velocity of left wheel should be higher.\n",
    "        Set angular velocity of right wheel to minumum (e.g. 3.85--> motor setting of 0.3) \"\"\"\n",
    "        r_ang_vel = min_ang_vel    \n",
    "        l_ang_vel = (min_ang_vel*2)/(2*radius/axle-1)+min_ang_vel\n",
    "    \n",
    "    if debug:\n",
    "        print (\"Left angular velocity:\",l_ang_vel, \" Right angular velocity:\",r_ang_vel)\n",
    "        T = control2robot(wheel_radius, axle_length)\n",
    "        robot_velocities = np.dot(T, np.array([[r_ang_vel],[l_ang_vel]]))\n",
    "        print (\"Robot velocities:\", robot_velocities)\n",
    "        print(\"arc radius = \",abs(robot_velocities[0,0]/robot_velocities[1,0]))\n",
    "    \n",
    "    return np.array([[r_ang_vel],[l_ang_vel]])\n"
   ]
  },
  {
   "cell_type": "code",
   "execution_count": 48,
   "metadata": {},
   "outputs": [],
   "source": [
    "def take_circ_step(robot_params, direction, radius, debug=False):\n",
    "    \n",
    "    # load robot control parameters\n",
    "    start_x = robot_params[\"start_x\"]\n",
    "    start_y = robot_params[\"start_y\"]\n",
    "    wheel_radius = robot_params[\"wheel_radius\"]\n",
    "    axle_length = robot_params[\"axle_length\"]\n",
    "    motor_on_time = robot_params[\"motor_on_time\"]\n",
    "    motor_off_time = robot_params[\"motor_off_time\"]\n",
    "    min_ang_velocity = robot_params[\"min_ang_velocity\"]\n",
    "    \n",
    "    \"\"\" Generate clamped wheel velocities based on turn direction and radius \"\"\"\n",
    "    wheel_velocities = calc_wheel_velocities(direction='L', arc_radius=radius, \\\n",
    "        min_ang_vel=min_ang_velocity, \\\n",
    "        wheel_radius=wheel_radius, axle_length=axle_length, debug = debug)\n",
    "    \n",
    "    \"\"\" Map wheel angular velocities to motor setting, then run motors \"\"\" \n",
    "    w_r = omega2speed(wheel_velocities[0,0],wheel_calibration) \n",
    "    w_l = omega2speed(wheel_velocities[1,0],wheel_calibration)\n",
    "    if debug:\n",
    "        print (\"L motor:\", w_l,\" R motor:\", w_r)\n",
    "    \n",
    "    \"\"\" Run motor step motion \"\"\"\n",
    "    robot.set_motors(w_l, w_r)  # left, right\n",
    "    time.sleep(motor_on_time)\n",
    "    robot.stop()\n",
    "    time.sleep(motor_off_time)\n",
    "    \n",
    "    return wheel_velocities"
   ]
  },
  {
   "cell_type": "code",
   "execution_count": 47,
   "metadata": {},
   "outputs": [],
   "source": [
    "robot_params = {\n",
    "    # pose\n",
    "    \"start_x\": 1.5,\n",
    "    \"start_y\": 1.5,\n",
    "    \"start_theta\": math.pi/2,\n",
    "    # physical dimensions\n",
    "    \"wheel_radius\": 0.0325,\n",
    "    \"axle_length\": 0.12,\n",
    "    # stepwise motor control\n",
    "    \"motor_on_time\": 0.1,  \n",
    "    \"motor_off_time\": 0.2,\n",
    "    # wheel velocity control\n",
    "    \"min_ang_velocity\": 6.0 # Equivalent to motor speed setting of 0.3\n",
    "}\n",
    "\n"
   ]
  },
  {
   "cell_type": "code",
   "execution_count": 145,
   "metadata": {},
   "outputs": [
    {
     "name": "stdout",
     "output_type": "stream",
     "text": [
      "[[1.5   ]\n",
      " [1.5   ]\n",
      " [1.5708]\n",
      " [0.    ]\n",
      " [0.    ]\n",
      " [0.    ]\n",
      " [0.    ]]\n",
      "[[      0.       0.       0.       0.       0.       0.       0.]\n",
      " [      0.       0.       0.       0.       0.       0.       0.]\n",
      " [      0.       0.       0.       0.       0.       0.       0.]\n",
      " [      0.       0.       0. 1000000.       0.       0.       0.]\n",
      " [      0.       0.       0.       0. 1000000.       0.       0.]\n",
      " [      0.       0.       0.       0.       0. 1000000.       0.]\n",
      " [      0.       0.       0.       0.       0.       0. 1000000.]]\n",
      "[[7.63636]\n",
      " [6.     ]]\n",
      "[[0.22159]\n",
      " [0.44318]]\n",
      "0.22159090909090912 0.4431818181818181 0.5000000000000001\n",
      "-0.0004909449465606009 0.022151837838428445 0.04431818181818181\n",
      "[[1. 0. 0. 0. 0. 0. 0.]\n",
      " [0. 1. 0. 0. 0. 0. 0.]\n",
      " [0. 0. 1. 0. 0. 0. 0.]]\n",
      "[[1.49951]\n",
      " [1.52215]\n",
      " [1.61511]\n",
      " [0.     ]\n",
      " [0.     ]\n",
      " [0.     ]\n",
      " [0.     ]]\n",
      "[[ 1.       0.      -0.02215  0.       0.       0.       0.     ]\n",
      " [ 0.       1.      -0.00049  0.       0.       0.       0.     ]\n",
      " [ 0.       0.       1.       0.       0.       0.       0.     ]\n",
      " [ 0.       0.       0.       1.       0.       0.       0.     ]\n",
      " [ 0.       0.       0.       0.       1.       0.       0.     ]\n",
      " [ 0.       0.       0.       0.       0.       1.       0.     ]\n",
      " [ 0.       0.       0.       0.       0.       0.       1.     ]]\n",
      "[[      0.       0.       0.       0.       0.       0.       0.]\n",
      " [      0.       0.       0.       0.       0.       0.       0.]\n",
      " [      0.       0.       0.       0.       0.       0.       0.]\n",
      " [      0.       0.       0. 1000000.       0.       0.       0.]\n",
      " [      0.       0.       0.       0. 1000000.       0.       0.]\n",
      " [      0.       0.       0.       0.       0. 1000000.       0.]\n",
      " [      0.       0.       0.       0.       0.       0. 1000000.]]\n"
     ]
    }
   ],
   "source": [
    "LARGE = 1e6\n",
    "t_delta = 0.1  # motor on time\n",
    "dt = 0.1\n",
    "R_t = np.zeros((3,3))  # Assume zero control noise for now\n",
    "\n",
    "debug = True\n",
    "np.set_printoptions(precision=5)\n",
    "\n",
    "wheel_radius = robot_params[\"wheel_radius\"]\n",
    "axle_length = robot_params[\"axle_length\"]\n",
    "T = control2robot(wheel_radius,axle_length)\n",
    "\n",
    "# robot's initial pose\n",
    "x = robot_params[\"start_x\"]\n",
    "y = robot_params[\"start_y\"]\n",
    "theta = robot_params[\"start_theta\"]\n",
    "\n",
    "# landmark's coordinates\n",
    "landmarks = ['cup', 'horse']\n",
    "\n",
    "# Initialize Mu\n",
    "Mu = np.array([[x],[y],[theta]])\n",
    "for object in enumerate(landmarks):\n",
    "    Mu = np.vstack((Mu,np.array([[0],[0]])))\n",
    "N = Mu.shape[0]   # N=3+2n, n=num of landmarks\n",
    "\n",
    "# Initialize Sigma - For Σ_mm, infinity (large num) along the diagonal and zero everywhere else \n",
    "Sigma = np.zeros((N,N))\n",
    "Sigma[3:,3:] = np.eye(N-3)*LARGE\n",
    "\n",
    "# Take 1 circular step\n",
    "wheel_velocities = take_circ_step(robot_params, 'L', 0.5, debug=False)\n",
    "robot_velocities = np.dot(T,wheel_velocities)   # convert to (v,omega)\n",
    "\n",
    "if debug:\n",
    "    print(Mu)\n",
    "    print(Sigma)\n",
    "    print(wheel_velocities)\n",
    "    print(robot_velocities)\n",
    "\n",
    "    \n",
    "\"\"\" EKF Prediction Step \"\"\"\n",
    "v = robot_velocities[0,0]\n",
    "w = robot_velocities[1,0]\n",
    "arc_radius = v/w   # arc radius \n",
    "\n",
    "x_delta = arc_radius*(math.sin(theta+w*t_delta)-math.sin(theta))\n",
    "y_delta = arc_radius*(math.cos(theta)-math.cos(theta+w*t_delta))\n",
    "theta_delta = w*t_delta\n",
    "\n",
    "F = np.zeros((3,N))\n",
    "F[0:3,0:3] = np.eye(3)\n",
    "\n",
    "# Implement Mu_t = g(Mu_t-1, u_t) \n",
    "Mu = Mu + np.dot(F.T, np.array([[x_delta],[y_delta],[theta_delta]]))\n",
    "\n",
    "# Calculate G_t\n",
    "d_x_delta = arc_radius*(math.cos(theta+w*t_delta)-math.cos(theta))\n",
    "d_y_delta = arc_radius*(-math.sin(theta)+math.sin(theta+w*t_delta))\n",
    "G_x_t = np.array([[0,0,d_x_delta],[0,0,d_y_delta],[0,0,0]])\n",
    "G_t = np.eye(N)+ np.dot(np.dot(F.T, G_x_t),F)\n",
    "\n",
    "# Calculate Sigma_t = G_t.Sigma_t-1.G_t^T + F^T.R_t.F\n",
    "Sigma = np.dot(np.dot(G_t, Sigma),G_t.T) + np.dot(np.dot(F.T, R_t),F)\n",
    "\n",
    "if debug:\n",
    "    print(v,w,arc_radius)\n",
    "    print(x_delta,y_delta,theta_delta)\n",
    "    print(F)\n",
    "    print(Mu)\n",
    "    np.set_printoptions(suppress=True)\n",
    "    print(G_t)\n",
    "    print(Sigma)"
   ]
  },
  {
   "cell_type": "code",
   "execution_count": null,
   "metadata": {},
   "outputs": [],
   "source": [
    "# Make approx 3 to 4 circular runs - 300 steps\n",
    "for i in range(3):\n",
    "    take_circ_step(robot_params, 'L', 0.5, debug=False)"
   ]
  },
  {
   "cell_type": "code",
   "execution_count": 30,
   "metadata": {},
   "outputs": [],
   "source": [
    "robot.stop()"
   ]
  },
  {
   "cell_type": "code",
   "execution_count": 122,
   "metadata": {},
   "outputs": [],
   "source": [
    "np.set_printoptions(suppress=False)"
   ]
  },
  {
   "cell_type": "code",
   "execution_count": 105,
   "metadata": {},
   "outputs": [
    {
     "data": {
      "text/plain": [
       "array([[1.49950906],\n",
       "       [1.52215184],\n",
       "       [1.61511451],\n",
       "       [0.        ],\n",
       "       [0.        ],\n",
       "       [0.        ],\n",
       "       [0.        ]])"
      ]
     },
     "execution_count": 105,
     "metadata": {},
     "output_type": "execute_result"
    }
   ],
   "source": [
    "Mu"
   ]
  },
  {
   "cell_type": "code",
   "execution_count": 106,
   "metadata": {},
   "outputs": [],
   "source": [
    "Mu += np.dot(F.T, np.array([[x_delta],[y_delta],[theta_delta]]))"
   ]
  },
  {
   "cell_type": "code",
   "execution_count": 142,
   "metadata": {},
   "outputs": [
    {
     "data": {
      "text/plain": [
       "array([[0.00003, 0.0005 , 0.005  , 0.     , 0.     , 0.     , 0.     ],\n",
       "       [0.0005 , 0.01   , 0.1    , 0.     , 0.     , 0.     , 0.     ],\n",
       "       [0.005  , 0.1    , 1.     , 0.     , 0.     , 0.     , 0.     ],\n",
       "       [0.     , 0.     , 0.     , 0.     , 0.     , 0.     , 0.     ],\n",
       "       [0.     , 0.     , 0.     , 0.     , 0.     , 0.     , 0.     ],\n",
       "       [0.     , 0.     , 0.     , 0.     , 0.     , 0.     , 0.     ],\n",
       "       [0.     , 0.     , 0.     , 0.     , 0.     , 0.     , 0.     ]])"
      ]
     },
     "execution_count": 142,
     "metadata": {},
     "output_type": "execute_result"
    }
   ],
   "source": [
    "np.dot(np.dot(F.T, R_t),F)"
   ]
  },
  {
   "cell_type": "code",
   "execution_count": 141,
   "metadata": {},
   "outputs": [
    {
     "data": {
      "text/plain": [
       "array([[      0.,       0.,       0.,       0.,       0.,       0.,\n",
       "              0.],\n",
       "       [      0.,       0.,       0.,       0.,       0.,       0.,\n",
       "              0.],\n",
       "       [      0.,       0.,       0.,       0.,       0.,       0.,\n",
       "              0.],\n",
       "       [      0.,       0.,       0., 1000000.,       0.,       0.,\n",
       "              0.],\n",
       "       [      0.,       0.,       0.,       0., 1000000.,       0.,\n",
       "              0.],\n",
       "       [      0.,       0.,       0.,       0.,       0., 1000000.,\n",
       "              0.],\n",
       "       [      0.,       0.,       0.,       0.,       0.,       0.,\n",
       "        1000000.]])"
      ]
     },
     "execution_count": 141,
     "metadata": {},
     "output_type": "execute_result"
    }
   ],
   "source": [
    "Sigma = np.zeros((N,N))\n",
    "Sigma[3:,3:] = np.eye(N-3)*LARGE\n",
    "np.dot(np.dot(G_t, Sigma),G_t.T)"
   ]
  },
  {
   "cell_type": "code",
   "execution_count": null,
   "metadata": {},
   "outputs": [],
   "source": []
  }
 ],
 "metadata": {
  "kernelspec": {
   "display_name": "Python 3",
   "language": "python",
   "name": "python3"
  },
  "language_info": {
   "codemirror_mode": {
    "name": "ipython",
    "version": 3
   },
   "file_extension": ".py",
   "mimetype": "text/x-python",
   "name": "python",
   "nbconvert_exporter": "python",
   "pygments_lexer": "ipython3",
   "version": "3.6.9"
  }
 },
 "nbformat": 4,
 "nbformat_minor": 4
}

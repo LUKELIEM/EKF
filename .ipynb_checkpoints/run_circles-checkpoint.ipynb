{
 "cells": [
  {
   "cell_type": "markdown",
   "metadata": {},
   "source": [
    "## Run Circle\n",
    "\n",
    "This Notebook contains codes to run a robot in circles."
   ]
  },
  {
   "cell_type": "code",
   "execution_count": 6,
   "metadata": {},
   "outputs": [],
   "source": [
    "import os\n",
    "import pickle\n",
    "import cv2\n",
    "import numpy as np\n",
    "import math\n",
    "import time\n",
    "from IPython.display import display\n",
    "import ipywidgets.widgets as widgets\n",
    "from jetbot import bgr8_to_jpeg\n",
    "from jetbot import ObjectDetector\n",
    "from jetbot import Camera\n",
    "from jetbot import Robot\n",
    "\n",
    "robot = Robot()"
   ]
  },
  {
   "cell_type": "code",
   "execution_count": 16,
   "metadata": {},
   "outputs": [],
   "source": [
    "# Mapping between set_motor \"speed\" and measured wheel angular velocity \"omega\"\n",
    "# for 0.1 second motor running time\n",
    "wheel_calibration = {\n",
    "    \"speed\": [0.25, 0.3, 0.4, 0.5, 0.6, 0.7, 0.8],\n",
    "    \"omega\": [0.0, 3.85, 9.23, 15.0, 25.8, 29.2, 35.4]\n",
    "}"
   ]
  },
  {
   "cell_type": "code",
   "execution_count": 21,
   "metadata": {},
   "outputs": [],
   "source": [
    "def forward(wheel_speed, Rtime):\n",
    "\n",
    "    robot.set_motors(wheel_speed, wheel_speed)\n",
    "    time.sleep(Rtime)\n",
    "    robot.stop()\n",
    "    \n",
    "    return\n",
    "\n",
    "def control2robot(wheel_radius, axle_length):\n",
    "    \"\"\" transform wheel speeds to robot motion in world frame \"\"\"\n",
    "    l = axle_length\n",
    "    r = wheel_radius\n",
    "\n",
    "    return np.array([[r/2, r/2],\n",
    "                  [r/l, -r/l]])\n",
    "\n",
    "def omega2speed(in_val, mapping):\n",
    "    \"\"\" Map wheel angular speed to motor speed setting based on a calibration mapping \"\"\"\n",
    "    \n",
    "    if in_val < 0:\n",
    "        sign = -1\n",
    "        in_val = abs(in_val)\n",
    "    else:\n",
    "        sign = 1\n",
    "        \n",
    "    out_lower = 0\n",
    "    in_lower = 0\n",
    "    out_val = 0\n",
    "\n",
    "    for i, in_upper in enumerate(mapping[\"omega\"]):\n",
    "        # print (i, in_upper)\n",
    "        if in_val < in_upper:\n",
    "            out_upper = mapping[\"speed\"][i]\n",
    "            out_val = out_lower + (in_val - in_lower)/(in_upper - in_lower) \\\n",
    "                *(out_upper-out_lower)\n",
    "            # print(\"yes\", out_val)\n",
    "            break\n",
    "        else:\n",
    "            # print(\"no\")\n",
    "            out_lower = mapping[\"speed\"][i]\n",
    "            in_lower = in_upper\n",
    "            \n",
    "    if out_val is 0:\n",
    "        print (\"Input is too high!!!\", in_val)\n",
    "        out_val = 0\n",
    "        \n",
    "    return sign*out_val"
   ]
  },
  {
   "cell_type": "code",
   "execution_count": 22,
   "metadata": {},
   "outputs": [],
   "source": [
    "forward(0.8, 0.1)"
   ]
  },
  {
   "cell_type": "code",
   "execution_count": 2,
   "metadata": {},
   "outputs": [],
   "source": [
    "robot.set_motors(0.3, 0.25)"
   ]
  },
  {
   "cell_type": "code",
   "execution_count": 3,
   "metadata": {},
   "outputs": [],
   "source": [
    "robot.stop()"
   ]
  },
  {
   "cell_type": "code",
   "execution_count": 18,
   "metadata": {},
   "outputs": [],
   "source": [
    "robot_params = {\n",
    "    \"start_x\": 0,\n",
    "    \"start_y\": 0,\n",
    "    \"wheel_radius\": 0.0325,\n",
    "    \"axle_length\": 0.12,\n",
    "    \"ang_velocity\": 3.846 # Equivalent to motor speed setting of 0.3\n",
    "}"
   ]
  },
  {
   "cell_type": "code",
   "execution_count": 38,
   "metadata": {},
   "outputs": [],
   "source": [
    "def arc_step(robot_params, radius):\n",
    "    \n",
    "    # load robot control parameters\n",
    "    start_x = robot_params[\"start_x\"]\n",
    "    start_y = robot_params[\"start_y\"]\n",
    "    wheel_radius = robot_params[\"wheel_radius\"]\n",
    "    axle_length = robot_params[\"axle_length\"]\n",
    "    ang_velocity = robot_params[\"ang_velocity\"]\n",
    "\n",
    "    # T transforms wheel angular velocities (R,L) to robot velocities (translation, angular)\n",
    "    T = control2robot(wheel_radius, axle_length)\n",
    "    inv_T = np.linalg.pinv(T)\n",
    "    \n",
    "    transl_velocity = ang_velocity * radius\n",
    "    robot_velocities = np.array([[transl_velocity],[ang_velocity]])\n",
    "    print (robot_velocities)\n",
    "    \n",
    "    wheel_velocities = np.dot(inv_T, robot_velocities)\n",
    "    print (wheel_velocities)  \n",
    "\n",
    "    \"\"\" Map wheel angular velocities to motor setting, then run motors \"\"\" \n",
    "    w_r = omega2speed(wheel_velocities[0,0],wheel_calibration) \n",
    "    w_l = omega2speed(wheel_velocities[1,0],wheel_calibration)\n",
    "    \n",
    "    print (\"L:\", w_l,\" R:\", w_r)   \n",
    "    \n",
    "    return w_l, w_r"
   ]
  },
  {
   "cell_type": "code",
   "execution_count": 39,
   "metadata": {},
   "outputs": [
    {
     "name": "stdout",
     "output_type": "stream",
     "text": [
      "[[1.1538]\n",
      " [3.846 ]]\n",
      "[[42.60184615]\n",
      " [28.40123077]]\n",
      "Input is too high!!! 42.60184615384635\n",
      "L: 0.676506787330322  R: 0\n"
     ]
    },
    {
     "data": {
      "text/plain": [
       "(0.676506787330322, 0)"
      ]
     },
     "execution_count": 39,
     "metadata": {},
     "output_type": "execute_result"
    }
   ],
   "source": [
    "arc_step(robot_params, 0.3)"
   ]
  },
  {
   "cell_type": "code",
   "execution_count": 62,
   "metadata": {},
   "outputs": [
    {
     "name": "stdout",
     "output_type": "stream",
     "text": [
      "[[0.7692]\n",
      " [3.846 ]]\n",
      "[[30.768     ]\n",
      " [16.56738462]]\n",
      "L: 0.5145128205128218  R: 0.7252903225806474\n",
      "[[0.7692]\n",
      " [3.846 ]]\n",
      "[[30.768     ]\n",
      " [16.56738462]]\n",
      "L: 0.5145128205128218  R: 0.7252903225806474\n",
      "[[0.7692]\n",
      " [3.846 ]]\n",
      "[[30.768     ]\n",
      " [16.56738462]]\n",
      "L: 0.5145128205128218  R: 0.7252903225806474\n",
      "[[0.7692]\n",
      " [3.846 ]]\n",
      "[[30.768     ]\n",
      " [16.56738462]]\n",
      "L: 0.5145128205128218  R: 0.7252903225806474\n",
      "[[0.7692]\n",
      " [3.846 ]]\n",
      "[[30.768     ]\n",
      " [16.56738462]]\n",
      "L: 0.5145128205128218  R: 0.7252903225806474\n",
      "[[0.7692]\n",
      " [3.846 ]]\n",
      "[[30.768     ]\n",
      " [16.56738462]]\n",
      "L: 0.5145128205128218  R: 0.7252903225806474\n",
      "[[0.7692]\n",
      " [3.846 ]]\n",
      "[[30.768     ]\n",
      " [16.56738462]]\n",
      "L: 0.5145128205128218  R: 0.7252903225806474\n",
      "[[0.7692]\n",
      " [3.846 ]]\n",
      "[[30.768     ]\n",
      " [16.56738462]]\n",
      "L: 0.5145128205128218  R: 0.7252903225806474\n",
      "[[0.7692]\n",
      " [3.846 ]]\n",
      "[[30.768     ]\n",
      " [16.56738462]]\n",
      "L: 0.5145128205128218  R: 0.7252903225806474\n",
      "[[0.7692]\n",
      " [3.846 ]]\n",
      "[[30.768     ]\n",
      " [16.56738462]]\n",
      "L: 0.5145128205128218  R: 0.7252903225806474\n"
     ]
    }
   ],
   "source": [
    "no_motion = False\n",
    "Rtime = 0.1\n",
    "num_steps = 10\n",
    "\n",
    "for i in range(num_steps):\n",
    "    w_l, w_r = arc_step(robot_params, 0.2)\n",
    "\n",
    "    if no_motion is False:\n",
    "        robot.set_motors(w_l, w_r)  # left, right\n",
    "        time.sleep(Rtime)\n",
    "        robot.stop()\n",
    "        time.sleep(0.5)"
   ]
  },
  {
   "cell_type": "code",
   "execution_count": 61,
   "metadata": {},
   "outputs": [],
   "source": [
    "robot.stop()"
   ]
  },
  {
   "cell_type": "code",
   "execution_count": null,
   "metadata": {},
   "outputs": [],
   "source": []
  }
 ],
 "metadata": {
  "kernelspec": {
   "display_name": "Python 3",
   "language": "python",
   "name": "python3"
  },
  "language_info": {
   "codemirror_mode": {
    "name": "ipython",
    "version": 3
   },
   "file_extension": ".py",
   "mimetype": "text/x-python",
   "name": "python",
   "nbconvert_exporter": "python",
   "pygments_lexer": "ipython3",
   "version": "3.6.9"
  }
 },
 "nbformat": 4,
 "nbformat_minor": 4
}

{
 "cells": [
  {
   "cell_type": "code",
   "execution_count": 14,
   "metadata": {},
   "outputs": [],
   "source": [
    "import numpy as np\n",
    "import math\n",
    "\n"
   ]
  },
  {
   "cell_type": "code",
   "execution_count": 10,
   "metadata": {},
   "outputs": [],
   "source": [
    "delta = np.array([[0.     ],\n",
    " [6.28319]]) "
   ]
  },
  {
   "cell_type": "code",
   "execution_count": 11,
   "metadata": {},
   "outputs": [],
   "source": [
    "gain = np.array([[ 0.,       0.     ],\n",
    " [ 0.,       0.     ],\n",
    " [ 0.,       0.     ],\n",
    " [ 0.,       0.     ],\n",
    " [ 0. ,      0.     ],\n",
    " [ 0.54696,  0.23567     ],\n",
    " [-0.83716,  0.15398    ],\n",
    " [ 0.,       0.     ],\n",
    " [ 0.,       0.     ],\n",
    " [ 0.,       0.     ],\n",
    " [ 0.,       0.     ]])"
   ]
  },
  {
   "cell_type": "code",
   "execution_count": 12,
   "metadata": {},
   "outputs": [
    {
     "data": {
      "text/plain": [
       "array([[0.        ],\n",
       "       [0.        ],\n",
       "       [0.        ],\n",
       "       [0.        ],\n",
       "       [0.        ],\n",
       "       [1.48075939],\n",
       "       [0.9674856 ],\n",
       "       [0.        ],\n",
       "       [0.        ],\n",
       "       [0.        ],\n",
       "       [0.        ]])"
      ]
     },
     "execution_count": 12,
     "metadata": {},
     "output_type": "execute_result"
    }
   ],
   "source": [
    "np.dot(gain,delta)"
   ]
  },
  {
   "cell_type": "code",
   "execution_count": 18,
   "metadata": {},
   "outputs": [
    {
     "data": {
      "text/plain": [
       "-0.6827443373795706"
      ]
     },
     "execution_count": 18,
     "metadata": {},
     "output_type": "execute_result"
    }
   ],
   "source": [
    "math.atan2(-0.19674,0.24193)"
   ]
  },
  {
   "cell_type": "code",
   "execution_count": 21,
   "metadata": {},
   "outputs": [],
   "source": [
    "Mu = np.array([[ 0.70336],\n",
    " [ 0.3475 ],\n",
    " [ 5.64807],\n",
    " [ 1.64343],\n",
    " [ 1.34217],\n",
    " [ 0.94529],\n",
    " [ 0.15076],\n",
    " [ 1.20456],\n",
    " [ 1.38681],\n",
    " [-0.0013 ],\n",
    " [ 1.35325]])\n",
    "\n",
    "j=1\n",
    "\n",
    "robot_x = Mu[0,0] \n",
    "robot_y = Mu[1,0] \n",
    "robot_theta = Mu[2,0]\n",
    "landmark_x = Mu[3+2*j,0]\n",
    "landmark_y = Mu[3+2*j+1,0]\n",
    "delta_x = landmark_x-robot_x\n",
    "delta_y = landmark_y-robot_y\n",
    "    \n",
    "delta = np.array([[delta_x],[delta_y]])\n",
    "q = np.asscalar(np.dot(delta.T, delta))\n",
    "z_t_hat = np.array([[math.sqrt(q)],[math.atan2(delta_y,delta_x)-robot_theta]])\n"
   ]
  },
  {
   "cell_type": "code",
   "execution_count": 37,
   "metadata": {},
   "outputs": [
    {
     "data": {
      "text/plain": [
       "-0.047629030199984435"
      ]
     },
     "execution_count": 37,
     "metadata": {},
     "output_type": "execute_result"
    }
   ],
   "source": [
    "(math.atan2(delta_y,delta_x)-robot_theta+math.pi)%(2*math.pi)-math.pi"
   ]
  },
  {
   "cell_type": "code",
   "execution_count": null,
   "metadata": {},
   "outputs": [],
   "source": []
  }
 ],
 "metadata": {
  "kernelspec": {
   "display_name": "Python 3",
   "language": "python",
   "name": "python3"
  },
  "language_info": {
   "codemirror_mode": {
    "name": "ipython",
    "version": 3
   },
   "file_extension": ".py",
   "mimetype": "text/x-python",
   "name": "python",
   "nbconvert_exporter": "python",
   "pygments_lexer": "ipython3",
   "version": "3.6.9"
  }
 },
 "nbformat": 4,
 "nbformat_minor": 4
}
